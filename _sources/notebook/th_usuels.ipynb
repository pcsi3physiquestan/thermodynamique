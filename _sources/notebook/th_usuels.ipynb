{
 "cells": [
  {
   "cell_type": "markdown",
   "id": "opened-escape",
   "metadata": {},
   "source": [
    "# Systèmes thermodynamiques usuels\n",
    "\n",
    "Nous allons étudier deux types de systèmes :\n",
    "* les gaz, et notamment la modèle du gaz parfait\n",
    "* les phases condensées peu compressibles et peu dilatables qui permettront de décrire la plupart des liquides et des solides."
   ]
  }
 ],
 "metadata": {
  "jupytext": {
   "encoding": "# -*- coding: utf-8 -*-",
   "formats": "ipynb,md:myst",
   "split_at_heading": true,
   "text_representation": {
    "extension": ".md",
    "format_name": "myst",
    "format_version": 0.13,
    "jupytext_version": "1.10.3"
   }
  },
  "kernelspec": {
   "display_name": "Python 3",
   "language": "python",
   "name": "python3"
  },
  "language_info": {
   "codemirror_mode": {
    "name": "ipython",
    "version": 3
   },
   "file_extension": ".py",
   "mimetype": "text/x-python",
   "name": "python",
   "nbconvert_exporter": "python",
   "pygments_lexer": "ipython3",
   "version": "3.9.2"
  },
  "source_map": [
   15
  ]
 },
 "nbformat": 4,
 "nbformat_minor": 5
}