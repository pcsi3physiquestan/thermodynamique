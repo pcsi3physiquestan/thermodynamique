{
 "cells": [
  {
   "cell_type": "markdown",
   "id": "interim-fleet",
   "metadata": {},
   "source": [
    "# Systèmes thermodynamiques usuels\n",
    "\n",
    "````{admonition} Objectifs\n",
    ":class: hint\n",
    "* Connaître et utiliser l'équation d'état des gaz parfaits.\n",
    "* Exprimer l'énergie interne d'un gaz parfait monoatomique à partir de l'interprétation microscopique de la température.\n",
    "* Savoir que l'énergie interne d'un gaz parfait ne dépend que de la température.\n",
    "* Savoir que l'énergie interne d'une phase condensée incompressible et indilatable ne dépend que de la température.\n",
    "* Comparer le comportement d'un gaz réel au comportement d'un gaz parfait.\n",
    "\n",
    "````"
   ]
  }
 ],
 "metadata": {
  "jupytext": {
   "encoding": "# -*- coding: utf-8 -*-",
   "formats": "ipynb,md:myst",
   "split_at_heading": true,
   "text_representation": {
    "extension": ".md",
    "format_name": "myst",
    "format_version": 0.13,
    "jupytext_version": "1.10.3"
   }
  },
  "kernelspec": {
   "display_name": "Python 3",
   "language": "python",
   "name": "python3"
  },
  "language_info": {
   "codemirror_mode": {
    "name": "ipython",
    "version": 3
   },
   "file_extension": ".py",
   "mimetype": "text/x-python",
   "name": "python",
   "nbconvert_exporter": "python",
   "pygments_lexer": "ipython3",
   "version": "3.9.2"
  },
  "source_map": [
   15
  ]
 },
 "nbformat": 4,
 "nbformat_minor": 5
}