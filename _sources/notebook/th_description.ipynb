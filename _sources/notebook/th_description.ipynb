{
 "cells": [
  {
   "cell_type": "markdown",
   "id": "double-surveillance",
   "metadata": {},
   "source": [
    "# Description d'un système thermodynamique\n",
    "\n",
    "````{admonition} Objectifs\n",
    ":class: hint\n",
    "* Définir l'échelle mésoscopique et en expliquer la nécessité.\n",
    "* Connaître quelques ordres de grandeurs du libre parcours moyen.\n",
    "* Calculer l'ordre de grandeur d'une vitesse quadratique moyenne\n",
    "* Identifier un système ouvert, un système fermé, un système isolé.\n",
    "* Calculer une pression à partir d'une condition d'équilibre mécanique.\n",
    "* Déduire une température d'une condition d'équilibre.\n",
    "* Connaître quelques ordres de grandeurs de volumes molaires ou massiques dans des conditions usuelles de pression et de température.\n",
    "````"
   ]
  }
 ],
 "metadata": {
  "jupytext": {
   "encoding": "# -*- coding: utf-8 -*-",
   "formats": "ipynb,md:myst",
   "split_at_heading": true,
   "text_representation": {
    "extension": ".md",
    "format_name": "myst",
    "format_version": 0.13,
    "jupytext_version": "1.10.3"
   }
  },
  "kernelspec": {
   "display_name": "Python 3",
   "language": "python",
   "name": "python3"
  },
  "language_info": {
   "codemirror_mode": {
    "name": "ipython",
    "version": 3
   },
   "file_extension": ".py",
   "mimetype": "text/x-python",
   "name": "python",
   "nbconvert_exporter": "python",
   "pygments_lexer": "ipython3",
   "version": "3.9.2"
  },
  "source_map": [
   15
  ]
 },
 "nbformat": 4,
 "nbformat_minor": 5
}