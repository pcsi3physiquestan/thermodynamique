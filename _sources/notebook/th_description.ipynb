{
 "cells": [
  {
   "cell_type": "markdown",
   "id": "b8e41f52",
   "metadata": {},
   "source": [
    "# Description d'un système thermodynamique\n",
    "\n",
    "````{admonition} Compétences\n",
    ":class: tip\n",
    "* Définir l'échelle mésoscopique et en expliquer la nécessité.\n",
    "* Connaître quelques ordres de grandeurs du libre parcours moyen.\n",
    "* Calculer l'ordre de grandeur d'une vitesse quadratique moyenne\n",
    "* Identifier un système ouvert, un système fermé, un système isolé.\n",
    "* Calculer une pression à partir d'une condition d'équilibre mécanique.\n",
    "* Déduire une température d'une condition d'équilibre.\n",
    "* Connaître quelques ordres de grandeurs de volumes molaires ou massiques dans des conditions usuelles de pression et de température.\n",
    "* Connaître et utiliser l'équation d'état des gaz parfaits.\n",
    "* Exprimer l'énergie interne d'un gaz parfait monoatomique à partir de l'interprétation microscopique de la température.\n",
    "* Savoir que l'énergie interne d'un gaz parfait ne dépend que de la température.\n",
    "* Savoir que l'énergie interne d'une phase condensée incompressible et indilatable ne dépend que de la température.\n",
    "* Comparer le comportement d'un gaz réel au comportement d'un gaz parfait.\n",
    "* Analyser un diagramme (P,T)\n",
    "* Proposer un jeu de variables d'état suffisant pour caractériser l'état d'équilibre d'un corps pur diphasé soumis aux seules forces de pression.\n",
    "* Positionner les phases dans les diagrammes (P,T) et (P,v)\n",
    "* Déterminer la composition d'un mélange diphasé en un point d'un diagramme (P,v)\n",
    "* Connaître et utiliser la relation entre les variations d'entropie et d'enthalpie associées à une transition de phase.\n",
    "````"
   ]
  }
 ],
 "metadata": {
  "jupytext": {
   "encoding": "# -*- coding: utf-8 -*-",
   "formats": "ipynb,md:myst",
   "split_at_heading": true,
   "text_representation": {
    "extension": ".md",
    "format_name": "myst",
    "format_version": 0.13,
    "jupytext_version": "1.10.3"
   }
  },
  "kernelspec": {
   "display_name": "Python 3",
   "language": "python",
   "name": "python3"
  },
  "language_info": {
   "codemirror_mode": {
    "name": "ipython",
    "version": 3
   },
   "file_extension": ".py",
   "mimetype": "text/x-python",
   "name": "python",
   "nbconvert_exporter": "python",
   "pygments_lexer": "ipython3",
   "version": "3.9.15"
  },
  "source_map": [
   15
  ]
 },
 "nbformat": 4,
 "nbformat_minor": 5
}