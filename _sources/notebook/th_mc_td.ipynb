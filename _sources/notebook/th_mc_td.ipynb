{
 "cells": [
  {
   "cell_type": "markdown",
   "id": "powered-swift",
   "metadata": {},
   "source": [
    "# Travaux dirigés\n",
    "\n",
    "## Etude d'un réfrigérateur\n",
    "\n",
    "````{admonition} Exercice \n",
    ":class: attention\n",
    "\n",
    "Un réfrigérateur à absorption est une machine frigorifique tritherme sans échange de travail avec l'extérieur. L'énergie est fournie sous forme thermique et à haute température par un bouilleur à $T_0$. Le condenseur est en contact thermique avec le milieu extérieur de température $T_1 < T_0$. L'évaporateur est en contact thermique avec la source de température $T_2 < T_1$. L'énergie est prelevé à la source froide au niveau de l'évaporateur. Définir et calculer l'efficacité frigorifique maximale, fonction des trois températures $T_0, T_1$ et $T_2$.\n",
    "\n",
    "````\n",
    "\n",
    "## Pompe à chaleur\n",
    "\n",
    "````{admonition} Exercice \n",
    ":class: attention\n",
    "\n",
    "Un fluide décrit des cycles réversibles du type pompe à chaleur entre une source froide de température constante $T_0 = 12 \\rm{^{\\circ}C}$ et un réservoir d'une tonne d'eau, dont la température initiale est $T_0 = 12 \\rm{^{\\circ}C}$, ne pouvant échanger de la chaleur qu'avec ce fluide. La capacité thermique massique de l'eau est $c = 4.18 \\rm{kJ.kg^{-1}.K^{-1}}$.\n",
    "\n",
    "1. Déterminer le travail $W$ fourni par le milieu extérieur quand l'eau du réservoir a atteint la température $47 \\rm{^{\\circ}C}$.\n",
    "1. Quelle aurait été l'élévation de température si la même énergie avait été fournie directement par une résistante chauffante?\n",
    "\n",
    "\n",
    "````\n",
    "\n",
    "## Optimisation du chauffage d'un local\n",
    "\n",
    "````{admonition} Exercice \n",
    ":class: attention\n",
    "\n",
    "On souhaite maintenir la température d'un local à $\\theta_1 = 20 \\rm{^{\\circ}C}$ alors que la température extérieure est $\\theta_0 = 0 \\rm{^{\\circ}C}$. L'énergie thermique nécessaire est de $Q_c=32\\rm{MJ}$ par heure. Par un système de chauffage central direct, on brûle $a$ litres de fuel par jours ($a$ est de l'ordre de 25 litres, sa valeur exacte n'intervient pas dans l'exercice).\n",
    "\n",
    "1. On utilise une pompe à chaleur fonctionnant réversiblement entre le local et l'extérieur, le fuel servant à faire fonctionner le moteur de cette pompe, comme nous le décrit la question. Calculer l'efficacité de la pompe à chaleur. En déduire la puissance consommée par cette pompe.\n",
    "\n",
    "\n",
    "Deux conseillers proposent chacun un dispositif qu'ils déclarent thermodynamiquement plus avantageux que le chauffage central:\n",
    "\n",
    "* dispositif du conseiller 1: les $a$ litres de fuel sont brûlés, l'énergie thermique $Q$ récupérée permet d'assurer la vaporisation de l'eau d'une chaudière auxiliaire à la température $\\theta_3 = 210 \\rm{^{\\circ}C}$ qui sert de source chaude à un moteur ditherme réversible dont la source froide est le local le travail fourni servant à faire fonctionner la pompe à chaleur étudiée à la question précédénte.\n",
    "* dispositif du conseiller 2: le principe est le même mais la chaudière auxiliaire est à la température $\\theta_4 = 260 \\rm{^{\\circ}C}$ et le moteur fonctionne entre cette chaudière et l'air extérieur.\n",
    "\n",
    "\n",
    "Dans les deux cas, on suppose que toute l'énergie thermique $Q$ obtenue par combustion du fuel est fournie par la chaudière auxiliaire au fluide du moteur.\n",
    "\n",
    "2. Dans les deux cas, calculer la durée $\\Delta t$ pendant lequel le chauffage sera assuré avec les a litres de fuel.\n",
    "2. Lequel de ces deux systèmes est le plus économique? Le système le plus économique tire-t-il son avantage de la température à laquelle fonctionne la chaudière auxiliaire ou cet avantage se maintient-il pour $\\theta_3 = \\theta_4$? Expliquer.\n",
    "2. La durée de chauffage, pour une quantité de fuel donnée, augmentant avec la température de la chaudière auxiliaire, un troisième conseiller prétend qu'il pourra, en utilisant le même dispositif, augmenter la durée du chauffage. A-t-il tort ou raison? Pourquoi?\n",
    "\n",
    "\n",
    "````\n",
    "\n",
    "## Cycle de Rankine moteur\n",
    "\n",
    "On considère le cycle suivant subi par du fréon (toutes les transformations sont réversibles).\n",
    "\n",
    "1. Depuis un état de liquide non saturé à la température $T_A$ et pression $P_A$, on réalise une échauffement isobare jusqu'à saturation (la température est alors $T_S$) puis une vaporisation complète isobare et isotherme.\n",
    "2. Le fluide subit ensuite une détente adiabatique jusqu'à une température $T_C$ où il est dans un état diphasé.\n",
    "3. La vapeur restante est ensuite condensée totalement de manière isobare et isotherme.\n",
    "4. Le fluide revient à son état initiale par une compression adiabatique.\n",
    "\n",
    "On connait:\n",
    "* La capacité thermique massique du liquide supposée indépendante de la température: $c_l$\n",
    "* Les enthalpies massiques de vaporisation à $T_S$ ($\\Delta h (T_S)$) et $T_C$ ($\\Delta h (T_C)$).\n",
    "* La capacité thermique massique du gaz supposée indépendante de la température: $c_g$. On supposera que le gaz suit la deuxième loi de Joule.\n",
    "\n",
    "\n",
    "````{admonition} Exercice\n",
    ":class: attention\n",
    "1. Représenter le cycle dans un diagramme (T,s) en notant que $T_A - T_C \\ll T_C$. On supposera par la suite $T_A \\approx T_C$\n",
    "2. Déterminer le transfert thermique massique reçu par le fluide caloporteur durant la première transformation en fonction de $c_l, T_C, T_S$ et $\\Delta h(T_S)$.\n",
    "3. Déterminer la fraction massique de gaz $x_g$ restant après la détente adiabatique en fonction de $c_g, T_S, T_C$ et $\\Delta h(T_C)$\n",
    "4. Déterminer le transfert thermique massique reçu par le fluide caloporteur durant la troisième transformation en fonction de $\\Delta h(T_C)$ et $x_g$\n",
    "5. En déduire le travail total reçu par le fluide durant le cycle puis le rendement du moteur ainsi réalisé.\n",
    "````"
   ]
  }
 ],
 "metadata": {
  "jupytext": {
   "encoding": "# -*- coding: utf-8 -*-",
   "formats": "ipynb,md:myst",
   "split_at_heading": true,
   "text_representation": {
    "extension": ".md",
    "format_name": "myst",
    "format_version": 0.13,
    "jupytext_version": "1.10.3"
   }
  },
  "kernelspec": {
   "display_name": "Python 3",
   "language": "python",
   "name": "python3"
  },
  "language_info": {
   "codemirror_mode": {
    "name": "ipython",
    "version": 3
   },
   "file_extension": ".py",
   "mimetype": "text/x-python",
   "name": "python",
   "nbconvert_exporter": "python",
   "pygments_lexer": "ipython3",
   "version": "3.9.2"
  },
  "source_map": [
   15
  ]
 },
 "nbformat": 4,
 "nbformat_minor": 5
}