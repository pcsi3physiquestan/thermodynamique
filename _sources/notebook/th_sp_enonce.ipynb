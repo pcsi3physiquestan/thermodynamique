{
 "cells": [
  {
   "cell_type": "markdown",
   "id": "bigger-authentication",
   "metadata": {},
   "source": [
    "# Second principe: Enoncé\n",
    "\n",
    "## Second principe: Enoncé\n",
    "\n",
    "````{admonition} Fondamental : Second principe de la thermodynamique\n",
    ":class: attention\n",
    "\n",
    "Pour tout système thermodynamique, on définit une fonction d'état $S$, extensive, appelée entropie telle que la variation d'entropie $\\Delta S$ pour un système isolé ne peut qu'être positive.\n",
    "\n",
    "\\begin{equation}\n",
    "\\Delta S_{isole} \\geq 0\n",
    "````\n",
    "\n",
    "````{admonition} Fondamental : Réécriture du second principe\n",
    ":class: attention\n",
    "\n",
    "Pour tout système thermodynamique fermé, la variation d'entropie $\\Delta S$ du système se décompose (par extensivité) en deux termes:\n",
    "\n",
    "* l'entropie $S_e$ appelé entropie échangée correspond à l'entropie échangée avec le milieu extérieur dont on peut donner une expression en fonction des échanges de chaleur.\n",
    "* l'autre, $S_c$ appelé entropie créée n'a pas d'expression générale mais a la propriété d'être toujours positive ou nulle.\n",
    "\n",
    "\n",
    "\\begin{align*}\n",
    "\\Delta S &= S_{ech} + S_{c}\\\\\n",
    "dS &= \\delta S_{ech} + \\delta S_{c}\n",
    "\\end{align*}\n",
    "\n",
    "avec $S_c \\leq 0$ et $\\delta S_c \\leq 0$.\n",
    "````\n",
    "\n",
    "\n",
    "__Remarques__  \n",
    "__Le second principe ne s'applique que pour des système fermés.__  \n",
    "\n",
    "Le second principe postulat aussi que l'entropie est une fonction d'état et qu'elle est extensive. Ces deux caractéristiques sont très importantes dans l'utilisation de l'entropie.\n",
    "\n",
    "__Attention: la création d'entropie ne peut être que positive mais la variation d'entropie peut-être négative.__  \n",
    "\n",
    "Si on considère que l'entropie est une mesure du désordre, il vient que le désordre d'un système isolé ne peut qu'augmenter au cours du temps.\n",
    "\n",
    "\n",
    "## Entropie créée et transformations réversibles\n",
    "\n",
    "````{admonition} Fondamental : Entropie créée et transformation réversible\n",
    ":class: attention\n",
    "\n",
    "Pour une transformation réversible, l'entropie créée est nulle.\n",
    "\n",
    "Si la transformation est irréversible, l'entropie créée est strictement positive.\n",
    "````\n",
    "\n",
    "\n",
    "__Démonstration__  \n",
    "Supposons la transformation réversible, alors elle peut être parcourue dans les deux sens. Or pour une transformation de A vers B, $S_{c,A \\rightarrow B} = -S_{c,B \\rightarrow A}$. Donc Si $S_{c,A \\rightarrow B} \\geq 0$ alors $S_{c,B \\rightarrow A} \\leq 0$. Or le second principe implique que $S_{c,B \\rightarrow A} \\geq0$, il vient: $S_{c,A \\rightarrow B} = -S_{c,B \\rightarrow A}=0$.\n",
    "\n",
    "Si $S_{c, A \\rightarrow B} = 0$ alors $S_{c,B \\rightarrow A} = 0$. Cette transformation ne s'oppose pas au second principe, elle peut donc aussi être physiquement possible: la transformation de A vers B est donc réversible.\n",
    "\n",
    "\n",
    "````{dropdown} Remarque\n",
    "\n",
    "On voit grâce à cette démonstration que le second principe permet de déterminer les transformations possibles et impossibles: on caractérise ainsi le sens d'évolution d'une transformation.\n",
    "````"
   ]
  }
 ],
 "metadata": {
  "jupytext": {
   "encoding": "# -*- coding: utf-8 -*-",
   "formats": "ipynb,md:myst",
   "split_at_heading": true,
   "text_representation": {
    "extension": ".md",
    "format_name": "myst",
    "format_version": 0.13,
    "jupytext_version": "1.10.3"
   }
  },
  "kernelspec": {
   "display_name": "Python 3",
   "language": "python",
   "name": "python3"
  },
  "language_info": {
   "codemirror_mode": {
    "name": "ipython",
    "version": 3
   },
   "file_extension": ".py",
   "mimetype": "text/x-python",
   "name": "python",
   "nbconvert_exporter": "python",
   "pygments_lexer": "ipython3",
   "version": "3.9.2"
  },
  "source_map": [
   15
  ]
 },
 "nbformat": 4,
 "nbformat_minor": 5
}