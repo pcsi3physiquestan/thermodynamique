{
 "cells": [
  {
   "cell_type": "markdown",
   "id": "immediate-partnership",
   "metadata": {},
   "source": [
    "# Premier principe: Enoncé\n",
    "\n",
    "## Premier principe: Enoncé\n",
    "\n",
    "````{sidebar} Remarques\n",
    "* Le premier principe est énoncé pour de __systèmes fermés__.\n",
    "* Dans ce principe, on affirme aussi que l'énergie interne est une __fonction d'état__ (elle ne dépend que des variables d'état). Ceci n'a rien d'évident a priori.\n",
    "* Dans ce principe, on affirme aussi que l'énergie interne est __extensive__.\n",
    "* Si l'on part de la définition microscopique de l'énergie mécanique, la conservation de l'énergie totale se comprend rapidement (mais attention, ce n'est pas une démonstration).\n",
    "* On peut considérer ce principe comme une application particulière du bilan effectué pour une grandeur intensive: on précise que quoiqu'il arrive le terme de création est nul.\n",
    "````\n",
    "````{important} __Premier principe: Enoncé__\n",
    "\n",
    "Pour tout système fermé, on peut définir une fonction U des variables d'état, extensive, appelée énergie interne, telle que l'énergie totale E soit conservative, c'est-à-dire qu'elle est constante si le système est isolé:\n",
    "\n",
    "$$\n",
    "E_{TOT} = E_{c,macro} + E_{p,macro} + U\n",
    "$$\n",
    "````\n",
    "\n",
    "````{margin}\n",
    "On se place __TOUJOURS en convention RECEPTEUR pour écrire le premier principe__  \n",
    "````\n",
    "````{important} __Enoncé opératoire__\n",
    "\n",
    "Puisque l'énergie totale est conservative, elle ne peut varier que s'il y a des échanges d'énergie. Nous décomposerons les échanges d'énergie en deux types:\n",
    "\n",
    "* le __travail W__: c'est le travail défini en mécanique auquel peuvent venir s'ajouter d'autres types de travail: électrique ou électromagnétique. Ils ont tous la qualité de dépendre de grandeur macroscopique extérieures.\n",
    "* le __transfert thermique Q__: c'est un terme supplémentaire associée à des échanges désordonnées.\n",
    "\n",
    "\n",
    "Le premier principe s'exprime donc: \n",
    "\n",
    "$$\n",
    "\\Delta E_{TOT} = W +Q\n",
    "$$\n",
    "````\n",
    "\n",
    "````{topic} Remarque\n",
    "\n",
    "__Notations__  \n",
    "Les variables d'état et les fonctions d'état ne dépendant que de l'état d'équilibre du système: leurs variations sont donc des différentielles totales. On écrira donc $dU$ pour une variation infinitésimale et $\\Delta U$ pour une variation globale. __De même, si l'on cherche des relations entre des fonctions d'état, on peut le faire en étudiant des transformations particulières. Ces expressions seront généralisées à toute transformation.__  \n",
    "\n",
    "Par contre, les transferts d'énergie dépendent de la transformation considérée. Ce sont des formes différentielles. On doit les calculer sur la transformation réelle. On écrira donc $\\delta W$ et $\\delta Q$ pour une variation infinitésimale et W et Q pour une variation globale. __Ecrire dW, dQ ou $\\Delta W$, $\\Delta Q$ est une faute grave.__  \n",
    "````\n",
    "\n",
    "## Importance de la définition du système\n",
    "\n",
    "````{attention}\n",
    "IL EST IMPERATIF DE TOUJOURS DEFINIR LE SYSTEME D'ETUDE AVANT DE CHERCHER A APPLIQUER UN THEOREME OU UNE EQUATION (Théorèmes mécaniques, premier principe, équation d'état).\n",
    "````\n",
    "\n",
    "\n",
    "## Typologie des transformations\n",
    "\n",
    "````{margin}\n",
    "Une transformation réversibles est toujours quasi-statiques. La réciproque est fausse (ex: piston huilé: les frottements fluides rendent la transformation irréversible, même si on déplace le fluide très lentement).\n",
    "````\n",
    "````{important} __Typopologie__\n",
    "\n",
    "On distingue plusieurs types de transformations. Cette liste n'est pas exhaustive mais ces types de transformations sont à connaître:\n",
    "\n",
    "* __transformation isotherme__: la température est constante\n",
    "* __transformation isobare__: la pression est constante\n",
    "* __transformation monotherme__: le système est en contact thermique avec un thermostat, c'est-à-dire un système à température constante. Une conséquence est qu'à l'équilibre, la température du système est imposée par le thermostat. Par contre, la température du système n'est pas nécessairement celle du thermostat __pendant__ la transformation (elle n'est peut-être même pas définie).\n",
    "* __transformation monobare__: le système est en contact mécanique avec une système à pression constante. Une conséquence est qu'à l'équilibre, la pression du système est imposée par le système extérieur. Par contre, la pression du système n'est pas nécessairement celle du système extérieur __pendant__ la transformation (elle n'est peut-être même pas définie).\n",
    "* __transformation isochore__: le volume est constant\n",
    "* __transformation adiabatique__: pas de transfert thermique: $Q=0$.\n",
    "* __transformation quasi-statique__: transformation qui passe par une succession continue d'états d'équilibre. Cela implique une transformation relativement lente.\n",
    "* __transformation réversible__: une transformation est réversible si on peut \"inverser le cours du temps\" et revenir en arrière en repassant exactement par les mêmes états d'équilibre sans violer aucune loi/principe physique.\n",
    "````"
   ]
  }
 ],
 "metadata": {
  "jupytext": {
   "encoding": "# -*- coding: utf-8 -*-",
   "formats": "ipynb,md:myst",
   "split_at_heading": true,
   "text_representation": {
    "extension": ".md",
    "format_name": "myst",
    "format_version": 0.13,
    "jupytext_version": "1.10.3"
   }
  },
  "kernelspec": {
   "display_name": "Python 3",
   "language": "python",
   "name": "python3"
  },
  "language_info": {
   "codemirror_mode": {
    "name": "ipython",
    "version": 3
   },
   "file_extension": ".py",
   "mimetype": "text/x-python",
   "name": "python",
   "nbconvert_exporter": "python",
   "pygments_lexer": "ipython3",
   "version": "3.9.2"
  },
  "source_map": [
   15
  ]
 },
 "nbformat": 4,
 "nbformat_minor": 5
}