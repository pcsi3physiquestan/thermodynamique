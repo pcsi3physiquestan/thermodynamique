{
 "cells": [
  {
   "cell_type": "markdown",
   "id": "difficult-draft",
   "metadata": {},
   "source": [
    "# Compression isotherme d'un gaz parfait\n",
    "\n",
    "````{admonition} Exercice \n",
    ":class: attention\n",
    "\n",
    "On considère un cylindre de section horizontale S fermé en haut par un piston de masse $M_0$ glissant sans frottements le long des paroi du cylindre. L'enceinte ainsi formée est remplie d'un gaz suivant le modèle des gaz parfait avec un coefficient $\\gamma$.\n",
    "\n",
    "Au dessus du piston se trouve une atmosphère à pression $P_0$. L'enceinte est de plus en contact thermique avec un thermostat à température $T_0$.\n",
    "\n",
    "Dans l'état initial le système est à l'équilibre et la hauteur entre le fond de l'enceinte et le piston est $h_0$.\n",
    "\n",
    "On pose sur le piston une masse $M$. On peut réaliser cette opération de deux manières:\n",
    "\n",
    "* on pose brutalement la masse M sur le piston\n",
    "* on rajoute progressivement des très petites masses sur le piston en attendant à chaque fois l'équilibre jusqu'à atteindre une masse M.\n",
    "\n",
    "\n",
    "1. Déterminer dans chaque cas l'état final. Commenter la différence.\n",
    "1. Déterminer dans chaque cas le travail reçu par le gaz. Commenter la différence et le signe.\n",
    "1. Déterminer le transfert thermique reçu par le gaz. Commenter le signe.\n",
    "\n",
    "\n",
    "````"
   ]
  }
 ],
 "metadata": {
  "jupytext": {
   "encoding": "# -*- coding: utf-8 -*-",
   "formats": "ipynb,md:myst",
   "split_at_heading": true,
   "text_representation": {
    "extension": ".md",
    "format_name": "myst",
    "format_version": 0.13,
    "jupytext_version": "1.10.3"
   }
  },
  "kernelspec": {
   "display_name": "Python 3",
   "language": "python",
   "name": "python3"
  },
  "language_info": {
   "codemirror_mode": {
    "name": "ipython",
    "version": 3
   },
   "file_extension": ".py",
   "mimetype": "text/x-python",
   "name": "python",
   "nbconvert_exporter": "python",
   "pygments_lexer": "ipython3",
   "version": "3.9.2"
  },
  "source_map": [
   15
  ]
 },
 "nbformat": 4,
 "nbformat_minor": 5
}