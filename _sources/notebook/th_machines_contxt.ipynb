{
 "cells": [
  {
   "cell_type": "markdown",
   "id": "laden-armor",
   "metadata": {},
   "source": [
    "# Comprendre le contexte\n",
    "\n",
    "Les machines thermiques sont la base de la révolution industrielle et d'une partie du fonctionnement industriel actuel. Leur but: effectuer une conversion d'énergie (ou de puissance) incluant un transfert thermique.\n",
    "\n",
    "Leur fonctionnement général se base sur le principe simple d'équivalence entre travail et échange thermique (ou chaleur) --- c'est-à-dire le premier principe tel que l'a énoncé Joule. On peut donc voir une machine thermique comme un système, en général un fluide passant pour différentes transformation pour soit:\n",
    "\n",
    "* prendre et donner de la chaleur à des corps pour fournir un travail mécanique: on parlera de __moteur__.\n",
    "* à partir d'un travail mécanique reçu, effectuer un échange de chaleur qui ne peut se faire naturellement (refroidir en été, chauffer une pièce en hiver... ). On distinguera deux types de machines suivant leur utilité:\n",
    "* les réfrigérateurs, servant à refroidir une source froide\n",
    "* les pompes à chaleur qui fonctionnement sur le même principe thermodynamique mais qui servent à maintenir une pièce à une température chaude."
   ]
  }
 ],
 "metadata": {
  "jupytext": {
   "encoding": "# -*- coding: utf-8 -*-",
   "formats": "ipynb,md:myst",
   "split_at_heading": true,
   "text_representation": {
    "extension": ".md",
    "format_name": "myst",
    "format_version": 0.13,
    "jupytext_version": "1.10.3"
   }
  },
  "kernelspec": {
   "display_name": "Python 3",
   "language": "python",
   "name": "python3"
  },
  "language_info": {
   "codemirror_mode": {
    "name": "ipython",
    "version": 3
   },
   "file_extension": ".py",
   "mimetype": "text/x-python",
   "name": "python",
   "nbconvert_exporter": "python",
   "pygments_lexer": "ipython3",
   "version": "3.9.2"
  },
  "source_map": [
   15
  ]
 },
 "nbformat": 4,
 "nbformat_minor": 5
}