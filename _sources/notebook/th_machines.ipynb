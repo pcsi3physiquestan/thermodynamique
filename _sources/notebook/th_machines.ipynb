{
 "cells": [
  {
   "cell_type": "markdown",
   "id": "demographic-placement",
   "metadata": {},
   "source": [
    "# Machines thermiques\n",
    "\n",
    "````{admonition} Objectifs\n",
    ":class: hint\n",
    "* Donner le sens des échanges énergétiques pour un moteur ou un récepteur thermique ditherme.\n",
    "* Analyser un dispositif concret et le modéliser par une machine cyclique ditherme.\n",
    "* Définir un rendement ou une efficacité et la relier aux énergies échangées au cours d'un cucle.\n",
    "* Justifier et utiliser le théorème de Carnot\n",
    "* Citer quelques ordres de grandeurs des rendements des machines thermiques réelles actuelles.\n",
    "* Utiliser le premier principe dans un écoulement stationnaire.\n",
    "\n",
    "````"
   ]
  }
 ],
 "metadata": {
  "jupytext": {
   "encoding": "# -*- coding: utf-8 -*-",
   "formats": "ipynb,md:myst",
   "split_at_heading": true,
   "text_representation": {
    "extension": ".md",
    "format_name": "myst",
    "format_version": 0.13,
    "jupytext_version": "1.10.3"
   }
  },
  "kernelspec": {
   "display_name": "Python 3",
   "language": "python",
   "name": "python3"
  },
  "language_info": {
   "codemirror_mode": {
    "name": "ipython",
    "version": 3
   },
   "file_extension": ".py",
   "mimetype": "text/x-python",
   "name": "python",
   "nbconvert_exporter": "python",
   "pygments_lexer": "ipython3",
   "version": "3.9.2"
  },
  "source_map": [
   15
  ]
 },
 "nbformat": 4,
 "nbformat_minor": 5
}