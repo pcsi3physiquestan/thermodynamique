{
 "cells": [
  {
   "cell_type": "markdown",
   "id": "887fe499",
   "metadata": {},
   "source": [
    "# Exercices d'application\n",
    "\n",
    "## Calcul de travail\n",
    "\n",
    "````{admonition} Exercice \n",
    ":class: attention\n",
    "\n",
    "Soit une mole de gaz subissant une compression isotherme réversible de $(P_0, T_0 , V_0)$ à $(2 P_0, T_0, V_1)$. Donner l'expression du travail reçu par le gaz selon qu'il s'agit:\n",
    "\n",
    "1. d'un gaz parfait\n",
    "1. d'un gaz de Van der Waals: $(P + \\frac{a}{V^2})(V - b) = RT$\n",
    "1. d'un gaz obéissant à l'équation d'état: $PV = RT (1 - a_1 P)$\n",
    "\n",
    "\n",
    "On supposera que seule les contraintes normales (pression extérieure) agissent sur le gaz.\n",
    "\n",
    "````\n",
    "_Point utile pour cet exercice_\n",
    "* _$\\Longrightarrow$ Gaz parfait_\n",
    "* _$\\Longrightarrow$ Travail des forces de pression._\n",
    "\n",
    "## Calorimétrie\n",
    "\n",
    "````{admonition} Exercice \n",
    ":class: attention\n",
    "\n",
    "Première expérience: On se propose de mesurer la capacité thermique de l'argent à l'aide d'un calorimètre contenant $200\\rm{g}$ d'eau à la température $T_i=18,9 \\rm{^{\\circ}C}$. Dans une phase préliminaire, on a déterminé la capacité thermique $C_0$ du calorimètre en plongeant un conducteur ohmique de résistante $100 \\rm{\\Omega}$, parcouru par un courant d'intensité $I=0,8\\rm{A}$. Au bout de $\\tau = 100\\rm{s}$, on a constaté une élévation de température de $7\\rm{K}$.\n",
    "\n",
    "Deuxième expérience: On introduit dans le calorimètre vide contenant $200\\rm{g}$ d'eau à la température $18,9 \\rm{^{\\circ}C}$ (aussi la température du calorimètre), un bloc d'argent de masse $82 \\rm{g}$ qui sort d'une étuve à la température $90 \\rm{^{\\circ}C}$. Une fois l'ensemble en équilibre thermique, on note sa température qui vaut $20,3 \\rm{^{\\circ}C}$.\n",
    "\n",
    "1. Calculer $C_0$.\n",
    "1. Déterminer la capacité thermique massique de l'argent. Quel est l'écart à la loi de Dulong-Petit ($C_{Vm} = 3R$)?\n",
    "\n",
    "\n",
    "Données numériques:\n",
    "\n",
    "* Masse molaire de l'argent: $M = 107.9 \\rm{g.mol^{-1}}$;\n",
    "* capacité thermique massique de l'eau: $c_e= 4.187 \\rm{kJ.K^{-1}.kg^{-1}}$.\n",
    "\n",
    "\n",
    "````\n",
    "\n",
    "_Point utile pour cet exercice_\n",
    "* _$\\Longrightarrow$ Calorimétrie_\n",
    "* _$\\Longrightarrow$ Capacité thermique des phases condensées._\n",
    "* _$\\Longrightarrow$ Travail reçu electriquement._"
   ]
  }
 ],
 "metadata": {
  "jupytext": {
   "encoding": "# -*- coding: utf-8 -*-",
   "formats": "ipynb,md:myst",
   "split_at_heading": true,
   "text_representation": {
    "extension": ".md",
    "format_name": "myst",
    "format_version": 0.13,
    "jupytext_version": "1.10.3"
   }
  },
  "kernelspec": {
   "display_name": "Python 3",
   "language": "python",
   "name": "python3"
  },
  "language_info": {
   "codemirror_mode": {
    "name": "ipython",
    "version": 3
   },
   "file_extension": ".py",
   "mimetype": "text/x-python",
   "name": "python",
   "nbconvert_exporter": "python",
   "pygments_lexer": "ipython3",
   "version": "3.9.15"
  },
  "source_map": [
   15
  ]
 },
 "nbformat": 4,
 "nbformat_minor": 5
}