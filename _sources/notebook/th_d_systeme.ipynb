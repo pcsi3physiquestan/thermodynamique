{
 "cells": [
  {
   "cell_type": "markdown",
   "id": "collected-conservative",
   "metadata": {},
   "source": [
    "# Système thermodynamique\n",
    "\n",
    "````{important} __Système thermodynamique__\n",
    "\n",
    "Un système thermodynamique est une portion de l'univers que l'on isole par la pensée du reste de l'univers baptisé alors milieu extérieur. Il comporte en général un grand nombre de particules.\n",
    "\n",
    "````\n",
    "\n",
    "```{margin}\n",
    "Un système thermodynamique n'a pas forcément de frontière matérielle et n'est pas forcément connexe.\n",
    "\n",
    "Isoler mentalement ne signifie pas laisser de côté le milieu extérieur. Celui-ci peut en effet être en interaction avec le système thermodynamique.\n",
    "```\n",
    "\n",
    "````{important} __Typologie des systèmes__\n",
    "\n",
    "On distingue trois types de systèmes suivant les échanges qu'il peut faire avec le milieu extérieur:\n",
    "\n",
    "* Un système __ouvert__ est un système qui peut échanger de la matière ET de l'énergie avec le milieu extérieur.\n",
    "* Un système __fermé__ est un système qui peut échanger uniquement de l'énergie avec le milieu extérieur.\n",
    "* Un système __isolé__ est un système qui n'échange ni matière, ni énergie avec le milieu extérieur.\n",
    "````"
   ]
  }
 ],
 "metadata": {
  "jupytext": {
   "encoding": "# -*- coding: utf-8 -*-",
   "formats": "ipynb,md:myst",
   "split_at_heading": true,
   "text_representation": {
    "extension": ".md",
    "format_name": "myst",
    "format_version": 0.13,
    "jupytext_version": "1.10.3"
   }
  },
  "kernelspec": {
   "display_name": "Python 3",
   "language": "python",
   "name": "python3"
  },
  "language_info": {
   "codemirror_mode": {
    "name": "ipython",
    "version": 3
   },
   "file_extension": ".py",
   "mimetype": "text/x-python",
   "name": "python",
   "nbconvert_exporter": "python",
   "pygments_lexer": "ipython3",
   "version": "3.9.2"
  },
  "source_map": [
   15
  ]
 },
 "nbformat": 4,
 "nbformat_minor": 5
}