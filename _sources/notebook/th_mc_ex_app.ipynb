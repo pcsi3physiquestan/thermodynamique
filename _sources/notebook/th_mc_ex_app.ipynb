{
 "cells": [
  {
   "cell_type": "markdown",
   "id": "composed-reunion",
   "metadata": {},
   "source": [
    "# Exercice d'application\n",
    "\n",
    "## Moteur ditherme\n",
    "\n",
    "````{admonition} Exercice \n",
    ":class: attention\n",
    "\n",
    "Montrer qu'un moteur ditherme ne peut que fournir de la chaleur à la source froide et en prendre à la source chaude.\n",
    "\n",
    "````\n",
    "\n",
    "## Cycle de Joule\n",
    "On considère une machine thermique constituée d'une mole de gaz parfait (coefficient $\\gamma$) subissant le cycle suivant:\n",
    "1. Une compression isentropique de $P_A = 1.0 \\times 10^5 \\rm{Pa}$ à $P_B = k P_A$. La température initiale est $T_A = 300 \\rm{K}$.\n",
    "2. Une échauffement isobare jusqu'à une température $T_C = 1000 \\rm{K}$\n",
    "3. Une détente isentropique avec un retour à la pression $P_A$\n",
    "4. Une refroidissement isobare jusqu'à l'état initial.\n",
    "\n",
    "Toutes les transformations sont supposées réversibles et $k=10$.\n",
    "\n",
    "1. Représenter le cycle sur un diagramme de Watt et préciser son caractère moteur ou récepteur.\n",
    "1. Exprimer $S(T)$ sur une transformation isobare et en déduire le tracer du cycle dans un diagramme entropique $(T,S)$\n",
    "1. Exprimer les transferts thermiques reçus par le gaz sur chaque transformation. Commenter le signe des chaque transfert thermique.\n",
    "1. En déduire le travail total W sur le cycle.\n",
    "1. Déterminer le rendement (si c'est un moteur) ou l'efficacité de la pompe à chaleur (si c'est un récepteur)."
   ]
  }
 ],
 "metadata": {
  "jupytext": {
   "encoding": "# -*- coding: utf-8 -*-",
   "formats": "ipynb,md:myst",
   "split_at_heading": true,
   "text_representation": {
    "extension": ".md",
    "format_name": "myst",
    "format_version": 0.13,
    "jupytext_version": "1.10.3"
   }
  },
  "kernelspec": {
   "display_name": "Python 3",
   "language": "python",
   "name": "python3"
  },
  "language_info": {
   "codemirror_mode": {
    "name": "ipython",
    "version": 3
   },
   "file_extension": ".py",
   "mimetype": "text/x-python",
   "name": "python",
   "nbconvert_exporter": "python",
   "pygments_lexer": "ipython3",
   "version": "3.9.2"
  },
  "source_map": [
   15
  ]
 },
 "nbformat": 4,
 "nbformat_minor": 5
}