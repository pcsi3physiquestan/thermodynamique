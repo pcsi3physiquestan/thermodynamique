{
 "cells": [
  {
   "cell_type": "markdown",
   "id": "unnecessary-pierre",
   "metadata": {},
   "source": [
    "# Transitions de phases\n",
    "\n",
    "````{admonition} Objectifs\n",
    ":class: tip\n",
    "* Analyser un diagramme (P,T)\n",
    "* Proposer un jeu de variables d'état suffisant pour caractériser l'état d'équilibre d'un corps pur diphasé soumis aux seules forces de pression.\n",
    "* Positionner les phases dans les diagrammes (P,T) et (P,v)\n",
    "* Déterminer la composition d'un mélange diphasé en un point d'un diagramme (P,v)\n",
    "* Expliquer la problématique du stockage des fluides.\n",
    "* Exploiter l'extensivité de l'enthalpie et réaliser des bilans énergétiques en prenant en compte des transitions de phases.\n",
    "* Connaître et utiliser la relation entre les variations d'entropie et d'enthalpie associées à une transition de phase.\n",
    "\n",
    "````"
   ]
  }
 ],
 "metadata": {
  "jupytext": {
   "encoding": "# -*- coding: utf-8 -*-",
   "formats": "ipynb,md:myst",
   "split_at_heading": true,
   "text_representation": {
    "extension": ".md",
    "format_name": "myst",
    "format_version": 0.13,
    "jupytext_version": "1.10.3"
   }
  },
  "kernelspec": {
   "display_name": "Python 3",
   "language": "python",
   "name": "python3"
  },
  "language_info": {
   "codemirror_mode": {
    "name": "ipython",
    "version": 3
   },
   "file_extension": ".py",
   "mimetype": "text/x-python",
   "name": "python",
   "nbconvert_exporter": "python",
   "pygments_lexer": "ipython3",
   "version": "3.9.2"
  },
  "source_map": [
   15
  ]
 },
 "nbformat": 4,
 "nbformat_minor": 5
}