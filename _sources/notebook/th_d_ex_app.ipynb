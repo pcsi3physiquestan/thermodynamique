{
 "cells": [
  {
   "cell_type": "markdown",
   "id": "periodic-harris",
   "metadata": {},
   "source": [
    "# Applications\n",
    "\n",
    "````{admonition} Etude d'un gaz parfait \n",
    ":class: attention\n",
    "\n",
    "Un récipient cubique contient sous la pression $P_0 = 1.013 \\times 10^5 \\rm{Pa}$ et à la température $T_0 = 273.15 \\rm{K}$, $1 \\rm{mol}$ d'argon de masse molaire $M = 39.9 \\rm{g.mol^{-1}}$. En considérant ce gaz comme parfait, on demande de calculer:\n",
    "\n",
    "1. le nombre d'atome du gaz\n",
    "1. la masse m d'un atome\n",
    "1. le volume $V$ du récipient et son arête $a$\n",
    "1. le nombre moyen $n_V$ d'atome par mètre cube.\n",
    "1. l'ordre de grandeur de l'espacement moyen entre deux atomes voisins\n",
    "1. l'énergie cinétique moyenne $\\left\\langle E_c\\right\\rangle$ d'un atome\n",
    "1. la vitesse quadratique moyenne $u$\n",
    "\n",
    "\n",
    "````\n",
    "\n",
    "````{admonition} Compressibilité du mercure \n",
    ":class: attention\n",
    "\n",
    "Le coefficient de compressibilité isotherme du mercure ne varie pas dans le domaine considéré et vaut: $\\chi_T = -\\frac{1}{V} {(\\frac{\\partial V}{\\partial P})}_{T} = -36 \\times 10^{-12} \\rm{Pa^{-1}}$.\n",
    "\n",
    "1. Etablir l'expression de la différentielle de la pression dP à température constante en fonction de $\\chi_T$, de la masse volumique $\\rho$ et de $d \\rho$ (Indice: on pourra considérer un système fermé).\n",
    "1. A la surface du mercure, $\\rho = \\rho_0$ et $P = P_0$. En déduire l'équation donnant $\\frac{\\rho}{\\rho_0}$ en fonction de ,$\\chi_T, P$ et $P_0$. Calculer la variation relative de masse volumique lorsque la pression varie de $50 \\rm{bar}$.\n",
    "````\n",
    "\n",
    "````{admonition} Capacités thermiques d'un gaz parfait\n",
    ":class: attention\n",
    "Démontrer les expressions des capacités thermiques __molaires__ d'un gaz parfait en fonction de $R$ et $\\gamma$.\n",
    "````\n",
    "\n",
    "````{admonition} Etude d'un diagramme de Clapeyron\n",
    ":class: attention\n",
    "\n",
    "On considère le diagramme de Clapyeyron de l'eau (partie liquide-vapeur) donné ci-après. Certaines isothermes ont été représentées. __Attention au type d'échelle.__\n",
    "\n",
    "```{figure} ./images/thermo_clap_eau_pv.png\n",
    ":name: td_clapeyron_td\n",
    ":align: center\n",
    "Diagramme de Clapeyron de l'eau\n",
    "```\n",
    "\n",
    "1. Expliquer pourquoi on observe des paliers de températures dans certaines zones et préciser les zones correspondant à l'état liquide, vapeur et équilibre liquide-vapeur. Déterminer les pressions de vapeur saturante pour 60°C, 100°C et 200°C.\n",
    "2. Déterminer la température et la pression du point critique ainsi que de le volume critique massique de l'eau.\n",
    "3. On se place à 100°C dans un équilibre liquide-vapeur.\n",
    "    1. Estimer graphiquement le volume massique de la partie gazeuse. Quelle hypothèse peut-on faire sur le rapport volume massique du liquide sur volume massique du gaz ?\n",
    "    2. On a mesurée une fraction massique de gaz $x_g = 0.6$. Situer l'état correspondant sur le diagramme de Clapeyron\n",
    "````"
   ]
  }
 ],
 "metadata": {
  "jupytext": {
   "encoding": "# -*- coding: utf-8 -*-",
   "formats": "ipynb,md:myst",
   "split_at_heading": true,
   "text_representation": {
    "extension": ".md",
    "format_name": "myst",
    "format_version": 0.13,
    "jupytext_version": "1.10.3"
   }
  },
  "kernelspec": {
   "display_name": "Python 3",
   "language": "python",
   "name": "python3"
  },
  "language_info": {
   "codemirror_mode": {
    "name": "ipython",
    "version": 3
   },
   "file_extension": ".py",
   "mimetype": "text/x-python",
   "name": "python",
   "nbconvert_exporter": "python",
   "pygments_lexer": "ipython3",
   "version": "3.9.2"
  },
  "source_map": [
   15
  ]
 },
 "nbformat": 4,
 "nbformat_minor": 5
}