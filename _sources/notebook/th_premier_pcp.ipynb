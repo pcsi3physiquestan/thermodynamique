{
 "cells": [
  {
   "cell_type": "markdown",
   "id": "a5cb09d0",
   "metadata": {},
   "source": [
    "# Premier principe\n",
    "\n",
    "````{admonition} Compétences\n",
    ":class: tip\n",
    "* Définir le système\n",
    "* Exploiter les conditions imposées par le milieu pour déterminer l'état d'équilibre final\n",
    "* Utiliser le vocabulaire usuel: évolutions isochore, isotherme, isobare, monobare, monotherme.\n",
    "* Calcul le travail par découpage en travaux élémentaires et sommation sur un chemin donné dans le cas d'une seule variable.\n",
    "* Interpréter géométriquement le travail des forces de pression dans un diagramme de Clapeyron/de Watt.\n",
    "* Distinguer qualitativement les trois types de transferts thermiques: conduction, convection et rayonnement.\n",
    "* Identifier dans une situation expérimentale le ou les systèmes modélisables par un thermostat.\n",
    "* Proposer de manière argumentée le modèle limite le mieux adapté à une situation réelle entre une transformation adiabatique et une transformation isotherme.\n",
    "* Définir un système fermé et établir pour ce système un bilan énergétique faisant intervenir travail W et transfert thermique Q.\n",
    "* Exploiter l'extensivité de l'énergie interne.\n",
    "* Distinguer l'état de la variation de l'énergie interne du statut des termes d'échange d'énergie.\n",
    "* Calculer le transfert thermique Q sur un chemin donné connaissant le travail W et la variation de l'énergie interne.\n",
    "* Exprimer l'enthalpie du gaz parfait à partir de l'énergie interne.\n",
    "* Comprendre pourquoi l'enthalpie d'une phase condensée peu compressible et peu dilatable peut être considérée comme une fonction de l'unique température.\n",
    "* Exprimer le premier principe sous forme de bilan d'enthalpie dans le cas d'une transformation monobare avec équilibre mécanique dans l'état initial et final.\n",
    "* Connaître l'ordre de grandeur de la capacité thermique de l'eau liquide.\n",
    "* Utiliser le premier principe pour mettre en place des expériences de calorimétrie.\n",
    "* Utiliser le premier principe dans un écoulement stationnaire.\n",
    "\n",
    "````"
   ]
  }
 ],
 "metadata": {
  "jupytext": {
   "encoding": "# -*- coding: utf-8 -*-",
   "formats": "ipynb,md:myst",
   "split_at_heading": true,
   "text_representation": {
    "extension": ".md",
    "format_name": "myst",
    "format_version": 0.13,
    "jupytext_version": "1.10.3"
   }
  },
  "kernelspec": {
   "display_name": "Python 3",
   "language": "python",
   "name": "python3"
  },
  "language_info": {
   "codemirror_mode": {
    "name": "ipython",
    "version": 3
   },
   "file_extension": ".py",
   "mimetype": "text/x-python",
   "name": "python",
   "nbconvert_exporter": "python",
   "pygments_lexer": "ipython3",
   "version": "3.9.15"
  },
  "source_map": [
   15
  ]
 },
 "nbformat": 4,
 "nbformat_minor": 5
}