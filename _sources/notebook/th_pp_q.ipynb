{
 "cells": [
  {
   "cell_type": "markdown",
   "id": "01c2d9d6",
   "metadata": {},
   "source": [
    "# Transfert thermique\n",
    "\n",
    "## Méthode de calcul du transfert thermique  \n",
    "\n",
    "La seule relation faisant intervernir le transfert thermique en première année est donnée par le second principe: $Q = \\Delta U - W$.\n",
    "\n",
    "Pour déterminer le transfert thermique lors qu'une transformation, on ne possède que deux manières en première année:\n",
    "\n",
    "* si la transformation est adiabatique: $Q = 0$: en général, il s'agit d'une __transformation suffisamment rapide pour que les échanges thermiques n'aient pas lieu__. A l'inverse, une transformation lente permettra la mise à l'équilibre thermique régulière et conduira à une transformation isotherme (dans laquelle $Q \\neq 0$ probablement).\n",
    "* sinon, on utilise le premier principe $Q = \\Delta U - W$\n",
    "\n",
    " \n",
    "\n",
    "````{important} __Mode de transfert thermique__\n",
    "\n",
    "Si nous ne pouvons donner une expression générale du transfert thermique. On peut au moins voir comment il se produit. Comme on le verra en deuxième année, on peut distinguer plusieurs types de transferts:\n",
    "*  le transfert par conduction (pas de mouvement de matière)\n",
    "*  par convection (mouvement de matière)\n",
    "*  rayonnement (échange d'énergie avec les ondes électromagnétiques, ex: le rayonnement solaire chauffe)\n",
    "````\n",
    "\n",
    "## Transfert thermique et température (en ligne)\n",
    "````{topic} Mise en situation\n",
    "\n",
    "On va voir ici __qu'il n'y a pas de lien entre le signe du transfert thermique reçu par le système et la variation de température du système.__  \n",
    "Considérons deux solides A et B. Le corps A est en translation horizontale à la vitesse constante $\\overrightarrow{v}$. Il glisse avec des frottements $\\overrightarrow{F}$ sur un support fixe B sous l'action d'une force $\\overrightarrow{F}$ extérieure à A et B qui fournit un travail $W>0$ entre les instants $t$ et $t+\\Delta t$. On supposera que le deux solides sont en équilibre thermique entre eux à chaque instant (mais par forcément avec l'extérieur).\n",
    "\n",
    "1. Exprimer le premier principe pour le système {A+B}.  \n",
    "__Premier principe :__  \n",
    "$\\Delta E_m + \\Delta U = W(\\overrightarrow{F}) + Q = W + Q$ avec $Q$ l'échange de chaleur avec le milieu extérieur. Il n'y a pas de variation d'énergie potentielle macroscopique (la seule force extérieure dérivant d'une énergie potentielle et le mouvement est horizontal) et pas de variation d'énergie cinétique (les deux solides ont des vitesses costantes), soit:$\\boxed{\\Delta U = W + Q}$.\n",
    "\n",
    "1. En déduire l'expression de la chaleur apporté au système {A+B} en fonction de W et de la variation d'énergie interne $\\Delta U$ du système {A+B}.  \n",
    "__Calcul de Q :__  \n",
    "Il vient immediatement: $Q = \\Delta U - W$\n",
    "\n",
    "1. Comment va évoluer la température si le système ne peut échanger de chaleur avec l'extérieur? Comment s'effectue le transfert de chaleur si le système est maintenu à température constante?  \n",
    "Pour un solide, $\\Delta U_{Solide} = C_V \\Delta T_{Solide}$. L'énergie interne étant extensive, on peut écrire: $\\Delta U = \\Delta U_A + \\Delta U_B = C_{VA} \\Delta T_{A} + C_{VB} \\Delta T_{B}$ où les indices A et B renvoient à chaque solide. Comme ils sont en équilibre thermique entre eux, $T_A = T_B$ au début et à la fin de la transformation, donc: $\\Delta U = (C_{VA} + C_{VB}) (T_{finale} - T_{initiale})$.\n",
    "\n",
    "* _Cas isotherme:_ A température constante, il vient $\\Delta U = 0$ donc $Q = - W < 0$: il y a nécessairement un échange thermique avec l'extérieur. Plus précisément, le système pers de l'énergie sous forme de chaleur vers l'éxterieur. __Ce cas montre bien que la constante de T ne correspond PAS à un transfert thermique nul.__  \n",
    "* _Cas adiabatique:_ Si le système est isolé thermiquement $Q=0$ et $(C_{VA} + C_{VB}) \\Delta T = W >0$ donc la température va nécessairement augmenter. __Ce cas montre bien que le caractère adiabatique n'implique que T ne varie pas.__  \n",
    "\n",
    "\n",
    "````"
   ]
  }
 ],
 "metadata": {
  "jupytext": {
   "encoding": "# -*- coding: utf-8 -*-",
   "formats": "ipynb,md:myst",
   "split_at_heading": true,
   "text_representation": {
    "extension": ".md",
    "format_name": "myst",
    "format_version": 0.13,
    "jupytext_version": "1.10.3"
   }
  },
  "kernelspec": {
   "display_name": "Python 3",
   "language": "python",
   "name": "python3"
  },
  "language_info": {
   "codemirror_mode": {
    "name": "ipython",
    "version": 3
   },
   "file_extension": ".py",
   "mimetype": "text/x-python",
   "name": "python",
   "nbconvert_exporter": "python",
   "pygments_lexer": "ipython3",
   "version": "3.9.15"
  },
  "source_map": [
   15
  ]
 },
 "nbformat": 4,
 "nbformat_minor": 5
}